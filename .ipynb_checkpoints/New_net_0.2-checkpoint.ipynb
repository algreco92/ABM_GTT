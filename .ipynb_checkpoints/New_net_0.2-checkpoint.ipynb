{
 "cells": [
  {
   "cell_type": "code",
   "execution_count": 1,
   "metadata": {
    "collapsed": false,
    "scrolled": true
   },
   "outputs": [
    {
     "name": "stdout",
     "output_type": "stream",
     "text": [
      "Populating the interactive namespace from numpy and matplotlib\n"
     ]
    }
   ],
   "source": [
    "%pylab inline\n",
    "import csv\n",
    "import itertools\n",
    "import pandas as pd\n",
    "from collections import defaultdict"
   ]
  },
  {
   "cell_type": "code",
   "execution_count": 2,
   "metadata": {
    "collapsed": false
   },
   "outputs": [],
   "source": [
    "trips = pd.read_csv(\"./GTFS_DATA/torino_it/trips.txt\",header = 0)\n",
    "stop_times = pd.read_csv(\"./GTFS_DATA/torino_it/stop_times.txt\", header = 0)\n",
    "stops = pd.read_csv(\"./GTFS_DATA/torino_it/stops.txt\",header = 0)\n",
    "calendar_dates = pd.read_csv(\"./GTFS_DATA/torino_it/calendar_dates.txt\",header=0)"
   ]
  },
  {
   "cell_type": "code",
   "execution_count": 3,
   "metadata": {
    "collapsed": false
   },
   "outputs": [],
   "source": [
    "route_trip_dict={}\n",
    "trip_route_dict={}\n",
    "for route, group in trips.groupby('route_id'):\n",
    "    route_trip_dict[route] = group['trip_id']\n",
    "trip_route_dict=dict(zip(trips['trip_id'],trips['route_id']))\n",
    "# dizionario route -> trip\n",
    "# dizionario trip -> route"
   ]
  },
  {
   "cell_type": "code",
   "execution_count": 4,
   "metadata": {
    "collapsed": false
   },
   "outputs": [
    {
     "name": "stdout",
     "output_type": "stream",
     "text": [
      "52876004 10002\n",
      "57583001 10003\n",
      "56784001 10004\n",
      "53086003 10005\n",
      "56783001 10006\n",
      "57341001 10007\n",
      "56785001 10008\n"
     ]
    }
   ],
   "source": [
    "stop_code_id_dict_conan=dict(zip(stops['stop_code'],stops['stop_id'])) #dizionario stop_code(4/5 cifre)->stop_id (8 cifre)\n",
    "i=0\n",
    "stop_code_id_dict={}\n",
    "for key,value in stop_code_id_dict_conan.iteritems():\n",
    "    if (not isnan(key)):\n",
    "        stop_code_id_dict[key] = value\n",
    "        #stop_code_id_dict_conan[key] = 10002+i\n",
    "    else:\n",
    "        key = 10002+i\n",
    "        stop_code_id_dict[key] = value\n",
    "        print stop_code_id_dict[key],key\n",
    "        i+=1\n",
    "stop_id_code_dict={}\n",
    "for key, value in stop_code_id_dict.iteritems():\n",
    "    stop_id_code_dict[value]=key"
   ]
  },
  {
   "cell_type": "code",
   "execution_count": 5,
   "metadata": {
    "collapsed": false
   },
   "outputs": [
    {
     "data": {
      "text/plain": [
       "10004"
      ]
     },
     "execution_count": 5,
     "metadata": {},
     "output_type": "execute_result"
    }
   ],
   "source": [
    "stop_id_code_dict[56784001]"
   ]
  },
  {
   "cell_type": "code",
   "execution_count": 6,
   "metadata": {
    "collapsed": false
   },
   "outputs": [],
   "source": [
    "#fermate con stop_code ma senza stop_id\n",
    "for key,value in stop_code_id_dict.iteritems():\n",
    "    if isnan(key): print stop_code_id_dict[key], \"missing key\"\n",
    "    if isnan(value): print stop_code_id_dict[key],key, \"missing value\""
   ]
  },
  {
   "cell_type": "code",
   "execution_count": 7,
   "metadata": {
    "collapsed": false
   },
   "outputs": [
    {
     "name": "stdout",
     "output_type": "stream",
     "text": [
      "2986 [1, 2, 3, 4, 5, 6, 7, 8, 9, 10, 11, 12, 13, 15, 16]\n",
      "2987 [1, 2, 3, 4, 5, 6, 7, 8, 9, 10, 11, 12, 13, 15, 16]\n",
      "4761 [1, 2, 3, 4, 5, 6, 7, 8, 9, 10, 11, 12, 13, 14, 15, 16, 17, 18, 19, 20, 21, 22, 24, 25]\n",
      "4762 [1, 2, 3, 4, 5, 6, 7, 8, 9, 10, 11, 12, 13, 14, 15, 16, 17, 18, 19, 20, 21, 22, 24, 25]\n"
     ]
    }
   ],
   "source": [
    "trip_itinerario = {} #per ogni trip, l'itinerario seguito\n",
    "for trip, group in stop_times.groupby('trip_id'):#tanti dataframe, ognuno ha il suo trip_id\n",
    "    #print group, type(list(group['stop_id'])), type(list(group['stop_id'])[0]),list(group['stop_id'])[0]\n",
    "    #break\n",
    "    if len(group)== max(group['stop_sequence']):#controllo itinerari incompleti (non aggiunti al dizionario)\n",
    "        trip_itinerario[trip]=list(group.sort_values('stop_sequence')['stop_id'].values)\n",
    "    else:\n",
    "        print trip, sorted(group['stop_sequence'])\n",
    "#qui creo un dizionario che associa ad ogni trip la lista di stop_id che lo costituisce"
   ]
  },
  {
   "cell_type": "code",
   "execution_count": 8,
   "metadata": {
    "collapsed": false
   },
   "outputs": [
    {
     "name": "stdout",
     "output_type": "stream",
     "text": [
      "913\n"
     ]
    }
   ],
   "source": [
    "print trip_route_dict[2986]"
   ]
  },
  {
   "cell_type": "code",
   "execution_count": 9,
   "metadata": {
    "collapsed": false
   },
   "outputs": [
    {
     "name": "stdout",
     "output_type": "stream",
     "text": [
      "[53500002, 53496002, 53490001, 53472001, 53465001, 53459001, 53436002, 53434001, 53443002, 53453001, 53466001, 53461001, 53445001, 53440001, 53442001, 53438002, 53428001, 53426002, 53423001, 53419002, 53415002, 53413002, 53408001, 53405002, 53392002, 53378002, 53358001, 53349002, 53344002, 53338002, 53330002, 53315002, 53309001, 53306001, 53304001, 53298001, 53292001, 53293002, 53288002, 53283002, 53279002, 53262002, 53248001, 53235001, 53225001, 53197004, 51947003, 51881004, 51761004, 51098006, 51025009, 50955020, 50916013, 50833014, 50786011, 50765016, 50914011, 50988011, 51107005]\n"
     ]
    }
   ],
   "source": [
    "print trip_itinerario[4293]"
   ]
  },
  {
   "cell_type": "code",
   "execution_count": 10,
   "metadata": {
    "collapsed": false
   },
   "outputs": [],
   "source": [
    "itin_trip = defaultdict(list) #per ogni itinerario, i trip con quell'itinerario\n",
    "for key, value in sorted(trip_itinerario.iteritems()):\n",
    "    itin_trip[str(value)].append(key)"
   ]
  },
  {
   "cell_type": "code",
   "execution_count": 11,
   "metadata": {
    "collapsed": false
   },
   "outputs": [
    {
     "name": "stdout",
     "output_type": "stream",
     "text": [
      "4044\n"
     ]
    }
   ],
   "source": [
    "for key, value in sorted(itin_trip.iteritems()):\n",
    "#    dato = value.strip('[]').split(', ')\n",
    "    print value[0]\n",
    "    break"
   ]
  },
  {
   "cell_type": "code",
   "execution_count": 12,
   "metadata": {
    "collapsed": false
   },
   "outputs": [
    {
     "name": "stdout",
     "output_type": "stream",
     "text": [
      "[4293, 4294, 4295, 4296]\n"
     ]
    }
   ],
   "source": [
    "a = str(itin_trip['[53500002, 53496002, 53490001, 53472001, 53465001, 53459001, 53436002, 53434001, 53443002, 53453001, 53466001, 53461001, 53445001, 53440001, 53442001, 53438002, 53428001, 53426002, 53423001, 53419002, 53415002, 53413002, 53408001, 53405002, 53392002, 53378002, 53358001, 53349002, 53344002, 53338002, 53330002, 53315002, 53309001, 53306001, 53304001, 53298001, 53292001, 53293002, 53288002, 53283002, 53279002, 53262002, 53248001, 53235001, 53225001, 53197004, 51947003, 51881004, 51761004, 51098006, 51025009, 50955020, 50916013, 50833014, 50786011, 50765016, 50914011, 50988011, 51107005]'])\n",
    "print a\n",
    "#inutilità pura"
   ]
  },
  {
   "cell_type": "code",
   "execution_count": 52,
   "metadata": {
    "collapsed": false,
    "scrolled": true
   },
   "outputs": [],
   "source": [
    "itin_route_code={}\n",
    "for key, value in itin_trip_code.iteritems():\n",
    "    if (len(value) == 0) or (len(key)==0):\n",
    "        print \"error\"\n",
    "    else:\n",
    "        itin_route_code[key]=trip_route_dict[value[0]]\n",
    "        route = trip_route_dict[value[0]]\n",
    "        for trip in value:\n",
    "            if route!=trip_route_dict[trip]:\n",
    "                #print route, trip_route_dict[trip]\n",
    "                break\n",
    "#emergono due routes con lo stesso itinerario (751 e 937). Controllando il dataset ho notato che in effetti\n",
    "# sono navette per la Reggia di Venaria, una durante la settimana e un'altra durante il weekend. Bene!"
   ]
  },
  {
   "cell_type": "code",
   "execution_count": 50,
   "metadata": {
    "collapsed": false
   },
   "outputs": [
    {
     "name": "stdout",
     "output_type": "stream",
     "text": [
      "1595\n"
     ]
    }
   ],
   "source": [
    "a = max([len(i) for i in itin_trip.values()]) #un po' basso considerando che si parla di 96 giorni? (16/gg)\n",
    "print a"
   ]
  },
  {
   "cell_type": "code",
   "execution_count": 15,
   "metadata": {
    "collapsed": false
   },
   "outputs": [
    {
     "name": "stdout",
     "output_type": "stream",
     "text": [
      "[('[51862009, 57866005, 57869007, 52025008, 57871004, 57872003, 52146006, 56663007, 56662003, 57059003, 51955008, 51856009, 51616009, 51445010, 51329014, 51150012, 50980017, 50828023, 50740024, 50645017, 53752011]', 33908), ('[53752011, 50645017, 50740024, 50828023, 50980017, 51150012, 51329014, 51445010, 51616009, 51856009, 51955008, 57059003, 56662003, 56663007, 52146006, 57872003, 57871004, 52025008, 57869007, 57866005, 51862009]', 35913)]\n"
     ]
    }
   ],
   "source": [
    "print [(key,value[0]) for key,value in sorted(itin_trip.iteritems()) if len(value)==a]"
   ]
  },
  {
   "cell_type": "code",
   "execution_count": 16,
   "metadata": {
    "collapsed": false
   },
   "outputs": [
    {
     "name": "stdout",
     "output_type": "stream",
     "text": [
      "[54586002, 56666001, 54589002, 54591002, 54594002, 54595002, 54592002]\n"
     ]
    }
   ],
   "source": [
    "print trip_itinerario[519]"
   ]
  },
  {
   "cell_type": "markdown",
   "metadata": {},
   "source": [
    "Per capire meglio le anomalie del dataset traduco tutti gli stop_code in stop_id"
   ]
  },
  {
   "cell_type": "code",
   "execution_count": 17,
   "metadata": {
    "collapsed": false
   },
   "outputs": [],
   "source": [
    "#dizionario service_id -> molteplicità servizio\n",
    "service_id_molt = {}\n",
    "for service_id, group in calendar_dates.groupby('service_id'):\n",
    "    service_id_molt[service_id] =len(group)\n",
    "trip_mult=dict(zip(trips['trip_id'],trips['service_id']))\n",
    "for key,value in trip_mult.iteritems():\n",
    "    trip_mult[key]=service_id_molt[value]"
   ]
  },
  {
   "cell_type": "code",
   "execution_count": 18,
   "metadata": {
    "collapsed": false
   },
   "outputs": [
    {
     "name": "stdout",
     "output_type": "stream",
     "text": [
      "25.7866666667\n"
     ]
    }
   ],
   "source": [
    "print mean(service_id_molt.values())"
   ]
  },
  {
   "cell_type": "code",
   "execution_count": 19,
   "metadata": {
    "collapsed": false
   },
   "outputs": [],
   "source": [
    "for value in stop_code_id_dict.values():\n",
    "    if stop_code_id_dict.values().count(value) != 1: print \"wut?\"\n",
    "for key in stop_code_id_dict.keys():\n",
    "    if stop_code_id_dict.keys().count(key) != 1: print \"wut?\"\n",
    "#controllo su unicità dei codici di fermata, sembra tutto ok"
   ]
  },
  {
   "cell_type": "code",
   "execution_count": 20,
   "metadata": {
    "collapsed": false
   },
   "outputs": [
    {
     "name": "stdout",
     "output_type": "stream",
     "text": [
      "292\n",
      "[54228001, 54243001, 54250001, 54256001, 54255001, 54252001, 54246001, 54236001, 54212001, 54215001, 54233001, 54227001, 54231001, 54230002, 54225002, 54214002, 54209001, 54200001, 54198001, 54192001, 54177001, 54164001, 54162001, 54613001, 54168001, 54170001, 54159001, 54145001, 54112002, 54102001, 54108001, 54113001, 54096002, 54088001, 54086002, 54068001, 54044001, 54038001, 54040001, 54031002, 54019001, 53995001, 53986001, 53980001]\n"
     ]
    }
   ],
   "source": [
    "#dizionario/dataframe? con itinerario -> route -> passaggi in 95 giorni\n",
    "itin_freq = {}\n",
    "for itin,trips in itin_trip.iteritems():\n",
    "    itin_freq[itin] = 0\n",
    "    for trip in trips:\n",
    "        itin_freq[itin] = itin_freq[itin] + trip_mult[trip]\n",
    "print itin_freq[itin_freq.keys()[2]]\n",
    "print itin_freq.keys()[0]"
   ]
  },
  {
   "cell_type": "code",
   "execution_count": 21,
   "metadata": {
    "collapsed": false
   },
   "outputs": [
    {
     "data": {
      "image/png": "[encoded data removed]",
      "text/plain": [
       "<matplotlib.figure.Figure at 0x7ead1d0>"
      ]
     },
     "metadata": {},
     "output_type": "display_data"
    }
   ],
   "source": [
    "data = itin_freq.values()\n",
    "ylim(ymax=250)\n",
    "a= plt.hist(data,bins = logspace(0,4,100), range=[0,15000])"
   ]
  },
  {
   "cell_type": "code",
   "execution_count": 22,
   "metadata": {
    "collapsed": false,
    "scrolled": true
   },
   "outputs": [
    {
     "data": {
      "text/plain": [
       "[<matplotlib.lines.Line2D at 0xb8513c8>]"
      ]
     },
     "execution_count": 22,
     "metadata": {},
     "output_type": "execute_result"
    },
    {
     "data": {
      "image/png": "[encoded data removed]",
      "text/plain": [
       "<matplotlib.figure.Figure at 0x3cfeda0>"
      ]
     },
     "metadata": {},
     "output_type": "display_data"
    }
   ],
   "source": [
    "occurr_trips = {}\n",
    "cosina = pd.DataFrame.from_dict(itin_freq,orient='index')\n",
    "for lenght,group in cosina.groupby(0):\n",
    "    occurr_trips[lenght]=len(group)\n",
    "chiavi_ord = sorted(occurr_trips.keys())\n",
    "values = [occurr_trips[i] for i in chiavi_ord]\n",
    "plot(log(chiavi_ord),values)"
   ]
  },
  {
   "cell_type": "markdown",
   "metadata": {},
   "source": [
    "Da fare:\n",
    "\n",
    "1: Aggiungere stop_id a fermate senza stop_id - FATTO SU\n",
    "\n",
    "2: Traduzione da stop_code a stop_id\n",
    "\n"
   ]
  },
  {
   "cell_type": "markdown",
   "metadata": {
    "collapsed": true
   },
   "source": [
    "##2 - Conversione da stop_code a stop_id \n",
    "Coinvolgerà i seguenti dizionari: trip_itinerario, itin_trip, itin_occurr"
   ]
  },
  {
   "cell_type": "code",
   "execution_count": 23,
   "metadata": {
    "collapsed": true
   },
   "outputs": [],
   "source": [
    "#trip_itin\n",
    "trip_itin_temp={}\n",
    "for trip,itin in trip_itinerario.iteritems():\n",
    "    trip_itin_temp[trip]=[]\n",
    "    for stop in itin:\n",
    "        trip_itin_temp[trip].append(int(stop_id_code_dict[stop]))\n",
    "trip_itinerario = trip_itin_temp"
   ]
  },
  {
   "cell_type": "code",
   "execution_count": 24,
   "metadata": {
    "collapsed": false
   },
   "outputs": [
    {
     "name": "stdout",
     "output_type": "stream",
     "text": [
      "[11703, 11706, 17129, 11709, 11715, 11718, 11721, 11708, 11724, 11727, 11730, 11733, 11234, 11402, 11399, 11237, 11393, 11423, 11426, 21432, 21435, 21438, 11387, 11384, 11381, 11378, 11375, 11372, 11369, 11366, 11363, 11360, 11357, 11354, 11351, 11348, 11345]\n"
     ]
    }
   ],
   "source": [
    "print trip_itinerario[4792]"
   ]
  },
  {
   "cell_type": "code",
   "execution_count": 25,
   "metadata": {
    "collapsed": false
   },
   "outputs": [],
   "source": [
    "#itin_trip, itin_occurr\n",
    "itin_trip_code={}\n",
    "itin_freq_code={}\n",
    "for key,value in itin_trip.iteritems():\n",
    "    new_key=[]\n",
    "#    print key.split()[0].strip('[,]'),\n",
    "    for num in (key.split()):\n",
    "        new_key.append(int(stop_id_code_dict[int(num.strip('[,]'))]))\n",
    "        #new_key.append(int(stop_id_code_dict[int(num.strip('[,]'))]))\n",
    "    itin_trip_code[str(new_key)]= value\n",
    "    itin_freq_code[str(new_key)]= itin_freq[key]\n",
    "#    del itin_freq[key]\n",
    "#    del itin_trip[key]\n"
   ]
  },
  {
   "cell_type": "code",
   "execution_count": 26,
   "metadata": {
    "collapsed": false
   },
   "outputs": [
    {
     "data": {
      "text/plain": [
       "1954.0"
      ]
     },
     "execution_count": 26,
     "metadata": {},
     "output_type": "execute_result"
    }
   ],
   "source": [
    "stop_id_code_dict[52553005]"
   ]
  },
  {
   "cell_type": "code",
   "execution_count": 27,
   "metadata": {
    "collapsed": false
   },
   "outputs": [
    {
     "name": "stdout",
     "output_type": "stream",
     "text": [
      "961 1265\n"
     ]
    }
   ],
   "source": [
    "count = 0\n",
    "for key,value in itin_freq_code.iteritems():\n",
    "    if value/(96.0*24.0) < 0.25: \n",
    "        count = count +1\n",
    "print count, len(itin_freq_code.values())"
   ]
  },
  {
   "cell_type": "markdown",
   "metadata": {
    "collapsed": true
   },
   "source": [
    "#### Temporizzazione degli itinerari/percorsi"
   ]
  },
  {
   "cell_type": "code",
   "execution_count": 28,
   "metadata": {
    "collapsed": true
   },
   "outputs": [],
   "source": [
    "import datetime"
   ]
  },
  {
   "cell_type": "code",
   "execution_count": 29,
   "metadata": {
    "collapsed": false
   },
   "outputs": [
    {
     "name": "stdout",
     "output_type": "stream",
     "text": [
      "01:02:03\n",
      "ora    : 1\n",
      "minuto : 2\n",
      "secondo: 3\n",
      "microsecondo: 0\n",
      "info fuso orario: None\n"
     ]
    }
   ],
   "source": [
    "t = datetime.time(1, 2, 3)\n",
    "print t\n",
    "print 'ora    :', t.hour\n",
    "print 'minuto :', t.minute\n",
    "print 'secondo:', t.second\n",
    "print 'microsecondo:', t.microsecond\n",
    "print 'info fuso orario:', t.tzinfo"
   ]
  },
  {
   "cell_type": "code",
   "execution_count": 30,
   "metadata": {
    "collapsed": false
   },
   "outputs": [
    {
     "name": "stdout",
     "output_type": "stream",
     "text": [
      "   trip_id arrival_time departure_time   stop_id  stop_sequence\n",
      "0    14113     15:17:00       15:17:00  57257001             17\n",
      "1    14113     15:18:00       15:18:00  57256001             18\n",
      "2    14113     15:19:00       15:19:00  51186008             19\n",
      "3    42212     10:31:00       10:31:00  52136003             28\n",
      "4    42212     10:32:00       10:32:00  52102004             29\n",
      "923    50891016\n",
      "Name: stop_id, dtype: int64\n"
     ]
    }
   ],
   "source": [
    "print stop_times.head()\n",
    "print stop_times.loc[stop_times['trip_id']==14113].loc[stop_times['stop_sequence']==1]['stop_id']\n",
    "#df.loc[df['column_name'] == some_value]"
   ]
  },
  {
   "cell_type": "code",
   "execution_count": 65,
   "metadata": {
    "collapsed": false
   },
   "outputs": [
    {
     "name": "stdout",
     "output_type": "stream",
     "text": [
      "0\n",
      "1\n",
      "2\n",
      "3\n",
      "4\n",
      "5\n"
     ]
    },
    {
     "ename": "KeyboardInterrupt",
     "evalue": "",
     "output_type": "error",
     "traceback": [
      "\u001b[1;31m---------------------------------------------------------------------------\u001b[0m",
      "\u001b[1;31mKeyboardInterrupt\u001b[0m                         Traceback (most recent call last)",
      "\u001b[1;32m<ipython-input-65-ecf32e9507bc>\u001b[0m in \u001b[0;36m<module>\u001b[1;34m()\u001b[0m\n\u001b[0;32m      7\u001b[0m     \u001b[0mlista_partenze\u001b[0m \u001b[1;33m=\u001b[0m \u001b[1;33m[\u001b[0m\u001b[1;36m0\u001b[0m \u001b[1;32mfor\u001b[0m \u001b[0mi\u001b[0m \u001b[1;32min\u001b[0m \u001b[0mrange\u001b[0m\u001b[1;33m(\u001b[0m\u001b[1;36m24\u001b[0m\u001b[1;33m)\u001b[0m\u001b[1;33m]\u001b[0m\u001b[1;33m\u001b[0m\u001b[0m\n\u001b[0;32m      8\u001b[0m     \u001b[1;32mfor\u001b[0m \u001b[0mtrip\u001b[0m \u001b[1;32min\u001b[0m \u001b[0mtrips\u001b[0m\u001b[1;33m:\u001b[0m\u001b[1;33m\u001b[0m\u001b[0m\n\u001b[1;32m----> 9\u001b[1;33m         \u001b[0morario\u001b[0m \u001b[1;33m=\u001b[0m \u001b[0mstop_times\u001b[0m\u001b[1;33m.\u001b[0m\u001b[0mloc\u001b[0m\u001b[1;33m[\u001b[0m\u001b[0mstop_times\u001b[0m\u001b[1;33m[\u001b[0m\u001b[1;34m'trip_id'\u001b[0m\u001b[1;33m]\u001b[0m\u001b[1;33m==\u001b[0m\u001b[0mtrip\u001b[0m\u001b[1;33m]\u001b[0m\u001b[1;33m.\u001b[0m\u001b[0mloc\u001b[0m\u001b[1;33m[\u001b[0m\u001b[0mstop_times\u001b[0m\u001b[1;33m[\u001b[0m\u001b[1;34m'stop_sequence'\u001b[0m\u001b[1;33m]\u001b[0m\u001b[1;33m==\u001b[0m\u001b[1;36m1\u001b[0m\u001b[1;33m]\u001b[0m\u001b[1;33m[\u001b[0m\u001b[1;34m'arrival_time'\u001b[0m\u001b[1;33m]\u001b[0m\u001b[1;33m,\u001b[0m\u001b[1;33m\u001b[0m\u001b[0m\n\u001b[0m\u001b[0;32m     10\u001b[0m         \u001b[0mora\u001b[0m \u001b[1;33m=\u001b[0m \u001b[0mint\u001b[0m\u001b[1;33m(\u001b[0m\u001b[0mstr\u001b[0m\u001b[1;33m(\u001b[0m\u001b[0morario\u001b[0m\u001b[1;33m)\u001b[0m\u001b[1;33m.\u001b[0m\u001b[0msplit\u001b[0m\u001b[1;33m(\u001b[0m\u001b[1;33m)\u001b[0m\u001b[1;33m[\u001b[0m\u001b[1;36m1\u001b[0m\u001b[1;33m]\u001b[0m\u001b[1;33m[\u001b[0m\u001b[1;33m:\u001b[0m\u001b[1;36m2\u001b[0m\u001b[1;33m]\u001b[0m\u001b[1;33m)\u001b[0m\u001b[1;33m%\u001b[0m\u001b[1;36m24\u001b[0m\u001b[1;33m\u001b[0m\u001b[0m\n\u001b[0;32m     11\u001b[0m         \u001b[0mlista_partenze\u001b[0m\u001b[1;33m[\u001b[0m\u001b[0mora\u001b[0m\u001b[1;33m]\u001b[0m\u001b[1;33m=\u001b[0m\u001b[0mlista_partenze\u001b[0m\u001b[1;33m[\u001b[0m\u001b[0mora\u001b[0m\u001b[1;33m]\u001b[0m\u001b[1;33m+\u001b[0m\u001b[0mtrip_mult\u001b[0m\u001b[1;33m[\u001b[0m\u001b[0mtrip\u001b[0m\u001b[1;33m]\u001b[0m\u001b[1;33m\u001b[0m\u001b[0m\n",
      "\u001b[1;32mC:\\Users\\Alessandro\\Anaconda\\lib\\site-packages\\pandas\\core\\indexing.pyc\u001b[0m in \u001b[0;36m__getitem__\u001b[1;34m(self, key)\u001b[0m\n\u001b[0;32m   1284\u001b[0m             \u001b[1;32mreturn\u001b[0m \u001b[0mself\u001b[0m\u001b[1;33m.\u001b[0m\u001b[0m_getitem_tuple\u001b[0m\u001b[1;33m(\u001b[0m\u001b[0mkey\u001b[0m\u001b[1;33m)\u001b[0m\u001b[1;33m\u001b[0m\u001b[0m\n\u001b[0;32m   1285\u001b[0m         \u001b[1;32melse\u001b[0m\u001b[1;33m:\u001b[0m\u001b[1;33m\u001b[0m\u001b[0m\n\u001b[1;32m-> 1286\u001b[1;33m             \u001b[1;32mreturn\u001b[0m \u001b[0mself\u001b[0m\u001b[1;33m.\u001b[0m\u001b[0m_getitem_axis\u001b[0m\u001b[1;33m(\u001b[0m\u001b[0mkey\u001b[0m\u001b[1;33m,\u001b[0m \u001b[0maxis\u001b[0m\u001b[1;33m=\u001b[0m\u001b[1;36m0\u001b[0m\u001b[1;33m)\u001b[0m\u001b[1;33m\u001b[0m\u001b[0m\n\u001b[0m\u001b[0;32m   1287\u001b[0m \u001b[1;33m\u001b[0m\u001b[0m\n\u001b[0;32m   1288\u001b[0m     \u001b[1;32mdef\u001b[0m \u001b[0m_getitem_axis\u001b[0m\u001b[1;33m(\u001b[0m\u001b[0mself\u001b[0m\u001b[1;33m,\u001b[0m \u001b[0mkey\u001b[0m\u001b[1;33m,\u001b[0m \u001b[0maxis\u001b[0m\u001b[1;33m=\u001b[0m\u001b[1;36m0\u001b[0m\u001b[1;33m)\u001b[0m\u001b[1;33m:\u001b[0m\u001b[1;33m\u001b[0m\u001b[0m\n",
      "\u001b[1;32mC:\\Users\\Alessandro\\Anaconda\\lib\\site-packages\\pandas\\core\\indexing.pyc\u001b[0m in \u001b[0;36m_getitem_axis\u001b[1;34m(self, key, axis)\u001b[0m\n\u001b[0;32m   1400\u001b[0m             \u001b[1;32mreturn\u001b[0m \u001b[0mself\u001b[0m\u001b[1;33m.\u001b[0m\u001b[0m_get_slice_axis\u001b[0m\u001b[1;33m(\u001b[0m\u001b[0mkey\u001b[0m\u001b[1;33m,\u001b[0m \u001b[0maxis\u001b[0m\u001b[1;33m=\u001b[0m\u001b[0maxis\u001b[0m\u001b[1;33m)\u001b[0m\u001b[1;33m\u001b[0m\u001b[0m\n\u001b[0;32m   1401\u001b[0m         \u001b[1;32melif\u001b[0m \u001b[0mis_bool_indexer\u001b[0m\u001b[1;33m(\u001b[0m\u001b[0mkey\u001b[0m\u001b[1;33m)\u001b[0m\u001b[1;33m:\u001b[0m\u001b[1;33m\u001b[0m\u001b[0m\n\u001b[1;32m-> 1402\u001b[1;33m             \u001b[1;32mreturn\u001b[0m \u001b[0mself\u001b[0m\u001b[1;33m.\u001b[0m\u001b[0m_getbool_axis\u001b[0m\u001b[1;33m(\u001b[0m\u001b[0mkey\u001b[0m\u001b[1;33m,\u001b[0m \u001b[0maxis\u001b[0m\u001b[1;33m=\u001b[0m\u001b[0maxis\u001b[0m\u001b[1;33m)\u001b[0m\u001b[1;33m\u001b[0m\u001b[0m\n\u001b[0m\u001b[0;32m   1403\u001b[0m         \u001b[1;32melif\u001b[0m \u001b[0mis_list_like_indexer\u001b[0m\u001b[1;33m(\u001b[0m\u001b[0mkey\u001b[0m\u001b[1;33m)\u001b[0m\u001b[1;33m:\u001b[0m\u001b[1;33m\u001b[0m\u001b[0m\n\u001b[0;32m   1404\u001b[0m \u001b[1;33m\u001b[0m\u001b[0m\n",
      "\u001b[1;32mC:\\Users\\Alessandro\\Anaconda\\lib\\site-packages\\pandas\\core\\indexing.pyc\u001b[0m in \u001b[0;36m_getbool_axis\u001b[1;34m(self, key, axis)\u001b[0m\n\u001b[0;32m   1294\u001b[0m         \u001b[0minds\u001b[0m\u001b[1;33m,\u001b[0m \u001b[1;33m=\u001b[0m \u001b[0mkey\u001b[0m\u001b[1;33m.\u001b[0m\u001b[0mnonzero\u001b[0m\u001b[1;33m(\u001b[0m\u001b[1;33m)\u001b[0m\u001b[1;33m\u001b[0m\u001b[0m\n\u001b[0;32m   1295\u001b[0m         \u001b[1;32mtry\u001b[0m\u001b[1;33m:\u001b[0m\u001b[1;33m\u001b[0m\u001b[0m\n\u001b[1;32m-> 1296\u001b[1;33m             \u001b[1;32mreturn\u001b[0m \u001b[0mself\u001b[0m\u001b[1;33m.\u001b[0m\u001b[0mobj\u001b[0m\u001b[1;33m.\u001b[0m\u001b[0mtake\u001b[0m\u001b[1;33m(\u001b[0m\u001b[0minds\u001b[0m\u001b[1;33m,\u001b[0m \u001b[0maxis\u001b[0m\u001b[1;33m=\u001b[0m\u001b[0maxis\u001b[0m\u001b[1;33m,\u001b[0m \u001b[0mconvert\u001b[0m\u001b[1;33m=\u001b[0m\u001b[0mFalse\u001b[0m\u001b[1;33m)\u001b[0m\u001b[1;33m\u001b[0m\u001b[0m\n\u001b[0m\u001b[0;32m   1297\u001b[0m         \u001b[1;32mexcept\u001b[0m \u001b[0mException\u001b[0m \u001b[1;32mas\u001b[0m \u001b[0mdetail\u001b[0m\u001b[1;33m:\u001b[0m\u001b[1;33m\u001b[0m\u001b[0m\n\u001b[0;32m   1298\u001b[0m             \u001b[1;32mraise\u001b[0m \u001b[0mself\u001b[0m\u001b[1;33m.\u001b[0m\u001b[0m_exception\u001b[0m\u001b[1;33m(\u001b[0m\u001b[0mdetail\u001b[0m\u001b[1;33m)\u001b[0m\u001b[1;33m\u001b[0m\u001b[0m\n",
      "\u001b[1;32mC:\\Users\\Alessandro\\Anaconda\\lib\\site-packages\\pandas\\core\\generic.pyc\u001b[0m in \u001b[0;36mtake\u001b[1;34m(self, indices, axis, convert, is_copy)\u001b[0m\n\u001b[0;32m   1626\u001b[0m         new_data = self._data.take(indices,\n\u001b[0;32m   1627\u001b[0m                                    \u001b[0maxis\u001b[0m\u001b[1;33m=\u001b[0m\u001b[0mself\u001b[0m\u001b[1;33m.\u001b[0m\u001b[0m_get_block_manager_axis\u001b[0m\u001b[1;33m(\u001b[0m\u001b[0maxis\u001b[0m\u001b[1;33m)\u001b[0m\u001b[1;33m,\u001b[0m\u001b[1;33m\u001b[0m\u001b[0m\n\u001b[1;32m-> 1628\u001b[1;33m                                    convert=True, verify=True)\n\u001b[0m\u001b[0;32m   1629\u001b[0m         \u001b[0mresult\u001b[0m \u001b[1;33m=\u001b[0m \u001b[0mself\u001b[0m\u001b[1;33m.\u001b[0m\u001b[0m_constructor\u001b[0m\u001b[1;33m(\u001b[0m\u001b[0mnew_data\u001b[0m\u001b[1;33m)\u001b[0m\u001b[1;33m.\u001b[0m\u001b[0m__finalize__\u001b[0m\u001b[1;33m(\u001b[0m\u001b[0mself\u001b[0m\u001b[1;33m)\u001b[0m\u001b[1;33m\u001b[0m\u001b[0m\n\u001b[0;32m   1630\u001b[0m \u001b[1;33m\u001b[0m\u001b[0m\n",
      "\u001b[1;32mC:\\Users\\Alessandro\\Anaconda\\lib\\site-packages\\pandas\\core\\internals.pyc\u001b[0m in \u001b[0;36mtake\u001b[1;34m(self, indexer, axis, verify, convert)\u001b[0m\n\u001b[0;32m   3642\u001b[0m                                 'the axis length')\n\u001b[0;32m   3643\u001b[0m \u001b[1;33m\u001b[0m\u001b[0m\n\u001b[1;32m-> 3644\u001b[1;33m         \u001b[0mnew_labels\u001b[0m \u001b[1;33m=\u001b[0m \u001b[0mself\u001b[0m\u001b[1;33m.\u001b[0m\u001b[0maxes\u001b[0m\u001b[1;33m[\u001b[0m\u001b[0maxis\u001b[0m\u001b[1;33m]\u001b[0m\u001b[1;33m.\u001b[0m\u001b[0mtake\u001b[0m\u001b[1;33m(\u001b[0m\u001b[0mindexer\u001b[0m\u001b[1;33m)\u001b[0m\u001b[1;33m\u001b[0m\u001b[0m\n\u001b[0m\u001b[0;32m   3645\u001b[0m         return self.reindex_indexer(new_axis=new_labels, indexer=indexer,\n\u001b[0;32m   3646\u001b[0m                                     axis=axis, allow_dups=True)\n",
      "\u001b[1;32mC:\\Users\\Alessandro\\Anaconda\\lib\\site-packages\\pandas\\indexes\\base.pyc\u001b[0m in \u001b[0;36mtake\u001b[1;34m(self, indices, axis, allow_fill, fill_value)\u001b[0m\n\u001b[0;32m   1344\u001b[0m \u001b[1;33m\u001b[0m\u001b[0m\n\u001b[0;32m   1345\u001b[0m         \u001b[0mindices\u001b[0m \u001b[1;33m=\u001b[0m \u001b[0mcom\u001b[0m\u001b[1;33m.\u001b[0m\u001b[0m_ensure_platform_int\u001b[0m\u001b[1;33m(\u001b[0m\u001b[0mindices\u001b[0m\u001b[1;33m)\u001b[0m\u001b[1;33m\u001b[0m\u001b[0m\n\u001b[1;32m-> 1346\u001b[1;33m         \u001b[0mtaken\u001b[0m \u001b[1;33m=\u001b[0m \u001b[0mself\u001b[0m\u001b[1;33m.\u001b[0m\u001b[0mvalues\u001b[0m\u001b[1;33m.\u001b[0m\u001b[0mtake\u001b[0m\u001b[1;33m(\u001b[0m\u001b[0mindices\u001b[0m\u001b[1;33m)\u001b[0m\u001b[1;33m\u001b[0m\u001b[0m\n\u001b[0m\u001b[0;32m   1347\u001b[0m         \u001b[1;32mreturn\u001b[0m \u001b[0mself\u001b[0m\u001b[1;33m.\u001b[0m\u001b[0m_shallow_copy\u001b[0m\u001b[1;33m(\u001b[0m\u001b[0mtaken\u001b[0m\u001b[1;33m)\u001b[0m\u001b[1;33m\u001b[0m\u001b[0m\n\u001b[0;32m   1348\u001b[0m \u001b[1;33m\u001b[0m\u001b[0m\n",
      "\u001b[1;31mKeyboardInterrupt\u001b[0m: "
     ]
    }
   ],
   "source": [
    "itin_tempi = {}\n",
    "j=0\n",
    "for itin, trips in itin_trip_code.iteritems():\n",
    "    print str(j)\n",
    "    j=j+1\n",
    "#   print itin.split()[0].strip('[,')\n",
    "    lista_partenze = [0 for i in range(24)]\n",
    "    for trip in trips:\n",
    "        orario = stop_times.loc[stop_times['trip_id']==trip].loc[stop_times['stop_sequence']==1]['arrival_time'],\n",
    "        ora = int(str(orario).split()[1][:2])%24\n",
    "        lista_partenze[ora]=lista_partenze[ora]+trip_mult[trip]\n",
    "    itin_tempi[itin] = lista_partenze"
   ]
  },
  {
   "cell_type": "code",
   "execution_count": 58,
   "metadata": {
    "collapsed": false
   },
   "outputs": [
    {
     "name": "stdout",
     "output_type": "stream",
     "text": [
      "852\n"
     ]
    }
   ],
   "source": [
    "print itin_route_code['[10544, 10469, 10541, 10535, 17837, 11168, 11165, 11159, 11156, 11153, 11150, 11147, 11144, 11141, 11138, 11135, 11132, 11129, 11126, 11123, 11120, 11117, 11114, 11111, 11108, 11105, 11102, 11099, 11096, 11093, 10098, 11090, 11087, 11084, 11081, 11078, 11075, 11072, 11264, 10095, 10083, 10081, 11246, 11568, 11243, 11577, 11444, 11237, 11393, 11423, 11513, 11330, 11583, 11238, 11244, 11239, 11242]']"
   ]
  },
  {
   "cell_type": "code",
   "execution_count": null,
   "metadata": {
    "collapsed": true
   },
   "outputs": [],
   "source": []
  }
 ],
 "metadata": {
  "kernelspec": {
   "display_name": "Python 2",
   "language": "python",
   "name": "python2"
  },
  "language_info": {
   "codemirror_mode": {
    "name": "ipython",
    "version": 2
   },
   "file_extension": ".py",
   "mimetype": "text/x-python",
   "name": "python",
   "nbconvert_exporter": "python",
   "pygments_lexer": "ipython2",
   "version": "2.7.11"
  }
 },
 "nbformat": 4,
 "nbformat_minor": 0
}
