{
 "cells": [
  {
   "cell_type": "code",
   "execution_count": 1,
   "metadata": {
    "collapsed": false
   },
   "outputs": [
    {
     "name": "stdout",
     "output_type": "stream",
     "text": [
      "Populating the interactive namespace from numpy and matplotlib\n"
     ]
    }
   ],
   "source": [
    "%pylab inline\n",
    "import csv\n",
    "import itertools\n",
    "import pandas as pd\n",
    "from collections import defaultdict"
   ]
  },
  {
   "cell_type": "code",
   "execution_count": 2,
   "metadata": {
    "collapsed": true
   },
   "outputs": [],
   "source": [
    "trips = pd.read_csv(\"../GTFS_DATA/torino_it/trips.txt\",header = 0)\n",
    "stop_times = pd.read_csv(\"../GTFS_DATA/torino_it/stop_times.txt\", header = 0)\n",
    "stops = pd.read_csv(\"../GTFS_DATA/torino_it/stops.txt\",header = 0)\n",
    "calendar_dates = pd.read_csv(\"../GTFS_DATA/torino_it/calendar_dates.txt\",header=0)"
   ]
  },
  {
   "cell_type": "code",
   "execution_count": 3,
   "metadata": {
    "collapsed": true
   },
   "outputs": [],
   "source": [
    "route_trip_dict={} # dizionario route -> trip\n",
    "trip_route_dict={} # dizionario trip -> route\n",
    "for route, group in trips.groupby('route_id'):\n",
    "    route_trip_dict[route] = group['trip_id']\n",
    "trip_route_dict=dict(zip(trips['trip_id'],trips['route_id']))"
   ]
  },
  {
   "cell_type": "code",
   "execution_count": 18,
   "metadata": {
    "collapsed": false
   },
   "outputs": [],
   "source": [
    "class stop:\n",
    "    def __init__ (self, id, code,name, lat, lon):\n",
    "        self.name = name\n",
    "        self.code = code\n",
    "        self.id = id\n",
    "        self.lat = lat\n",
    "        self.lon = lon"
   ]
  },
  {
   "cell_type": "code",
   "execution_count": 38,
   "metadata": {
    "collapsed": false
   },
   "outputs": [],
   "source": [
    "class itin:\n",
    "    def __init__(self, id, stop_list, tempo, frequenze):\n",
    "        self.id = id\n",
    "        self.stop_list = stop_list\n",
    "        self.tempo = tempo\n",
    "        self.frequenze = frequenze"
   ]
  },
  {
   "cell_type": "markdown",
   "metadata": {},
   "source": [
    "Nel box seguente creo una lista di fermate, definite come oggetti con tutte le caratteristiche descritte nella classe definita sopra"
   ]
  },
  {
   "cell_type": "code",
   "execution_count": 30,
   "metadata": {
    "collapsed": false
   },
   "outputs": [],
   "source": [
    "stop_list=[]\n",
    "i=0\n",
    "for a in stops.iterrows():\n",
    "    if isnan(a[1]['stop_code']): #alcune fermate hanno stop_code nullo, glie ne mettiamo uno unico noi\n",
    "        code = 10002 + i\n",
    "        i = i + 1\n",
    "    else:\n",
    "        code = int(a[1]['stop_code'])\n",
    "    stop_list.append(stop\n",
    "                     (int(a[1]['stop_id']),\n",
    "                      code,\n",
    "                      str(a[1]['stop_name']),\n",
    "                      float(a[1]['stop_lat']),\n",
    "                      float(a[1]['stop_lon'])))"
   ]
  },
  {
   "cell_type": "code",
   "execution_count": 40,
   "metadata": {
    "collapsed": false
   },
   "outputs": [
    {
     "name": "stdout",
     "output_type": "stream",
     "text": [
      "trip incompleti:\n",
      "2986 [1, 2, 3, 4, 5, 6, 7, 8, 9, 10, 11, 12, 13, 15, 16]\n",
      "2987 [1, 2, 3, 4, 5, 6, 7, 8, 9, 10, 11, 12, 13, 15, 16]\n",
      "4761 [1, 2, 3, 4, 5, 6, 7, 8, 9, 10, 11, 12, 13, 14, 15, 16, 17, 18, 19, 20, 21, 22, 24, 25]\n",
      "4762 [1, 2, 3, 4, 5, 6, 7, 8, 9, 10, 11, 12, 13, 14, 15, 16, 17, 18, 19, 20, 21, 22, 24, 25]\n"
     ]
    }
   ],
   "source": [
    "trip_itinerario = {} #per ogni trip, l'itinerario seguito\n",
    "print \"trip incompleti:\"\n",
    "for trip, group in stop_times.groupby('trip_id'):#tanti dataframe, ognuno ha il suo trip_id\n",
    "    #print group, type(list(group['stop_id'])), type(list(group['stop_id'])[0]),list(group['stop_id'])[0]\n",
    "    #break\n",
    "    if len(group)== max(group['stop_sequence']):#controllo itinerari incompleti (non aggiunti al dizionario)\n",
    "        trip_itinerario[trip]=list(group.sort_values('stop_sequence')['stop_id'].values)\n",
    "    else:\n",
    "        print trip, sorted(group['stop_sequence'])\n",
    "#qui creo un dizionario che associa ad ogni trip la lista di stop_id che lo costituisce\n",
    "\n",
    "itin_trip = defaultdict(list) #per ogni itinerario, i trip con quell'itinerario\n",
    "for key, value in sorted(trip_itinerario.iteritems()):\n",
    "    itin_trip[str(value)].append(key)"
   ]
  },
  {
   "cell_type": "code",
   "execution_count": 129,
   "metadata": {
    "collapsed": false
   },
   "outputs": [
    {
     "name": "stdout",
     "output_type": "stream",
     "text": [
      "2978\n",
      "37\n"
     ]
    }
   ],
   "source": [
    "# mi serve l'ora di arrivo per ogni trip e l'orario di partenza, dividendo per il numero di fermate \n",
    "# ho l'orario per ogni fermata. Codice di esempio per spiegare quello che abbiamo fatto\n",
    "#print itin_trip.keys()[0]\n",
    "tripp = itin_trip[itin_trip.keys()[0]][0]\n",
    "print tripp\n",
    "selezione = stop_times[stop_times['trip_id']==tripp] # le stop sequence con quel trip_id\n",
    "#print selezione\n",
    "#print selezione['stop_sequence']\n",
    "lunghezza = max(selezione['stop_sequence'])\n",
    "fine = selezione[selezione['stop_sequence'] == max(selezione['stop_sequence'])]\n",
    "inizio = selezione[selezione['stop_sequence'] == 1]\n",
    "\n",
    "stringa_fine = str(fine['arrival_time']).split()[1].split(':')\n",
    "stringa_inizio = str(inizio['arrival_time']).split()[1].split(':')\n",
    "minuto_fine = 60*(int(stringa_fine[0])% 24)+int(stringa_fine[1])\n",
    "minuto_inizio = 60*(int(stringa_inizio[0])% 24)+int(stringa_inizio[1]) \n",
    "print minuto_fine - minuto_inizio"
   ]
  },
  {
   "cell_type": "code",
   "execution_count": null,
   "metadata": {
    "collapsed": true
   },
   "outputs": [],
   "source": []
  }
 ],
 "metadata": {
  "kernelspec": {
   "display_name": "Python 2",
   "language": "python",
   "name": "python2"
  },
  "language_info": {
   "codemirror_mode": {
    "name": "ipython",
    "version": 2
   },
   "file_extension": ".py",
   "mimetype": "text/x-python",
   "name": "python",
   "nbconvert_exporter": "python",
   "pygments_lexer": "ipython2",
   "version": "2.7.11"
  }
 },
 "nbformat": 4,
 "nbformat_minor": 0
}
