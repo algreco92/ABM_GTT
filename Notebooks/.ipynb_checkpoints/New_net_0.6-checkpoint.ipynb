{
 "cells": [
  {
   "cell_type": "code",
   "execution_count": 21,
   "metadata": {
    "collapsed": false
   },
   "outputs": [
    {
     "name": "stdout",
     "output_type": "stream",
     "text": [
      "Populating the interactive namespace from numpy and matplotlib\n"
     ]
    }
   ],
   "source": [
    "%pylab inline\n",
    "import csv\n",
    "import itertools\n",
    "import pandas as pd\n",
    "from collections import defaultdict"
   ]
  },
  {
   "cell_type": "markdown",
   "metadata": {},
   "source": [
    "###Inizializzazione\n",
    "Qui importiamo tutti i file disponibili nei GTFS_DATA come dataframe grazie alla libreria Pandas"
   ]
  },
  {
   "cell_type": "code",
   "execution_count": 22,
   "metadata": {
    "collapsed": true
   },
   "outputs": [],
   "source": [
    "trips = pd.read_csv(\"../GTFS_DATA/torino_it/trips.txt\",header = 0)\n",
    "stop_times = pd.read_csv(\"../GTFS_DATA/torino_it/stop_times.txt\", header = 0)\n",
    "stops = pd.read_csv(\"../GTFS_DATA/torino_it/stops.txt\",header = 0)\n",
    "calendar_dates = pd.read_csv(\"../GTFS_DATA/torino_it/calendar_dates.txt\",header=0)"
   ]
  },
  {
   "cell_type": "code",
   "execution_count": 23,
   "metadata": {
    "collapsed": false
   },
   "outputs": [],
   "source": [
    "route_trip_dict={} # dizionario route -> trip\n",
    "trip_route_dict={} # dizionario trip -> route\n",
    "for route, group in trips.groupby('route_id'):\n",
    "    route_trip_dict[route] = group['trip_id']\n",
    "trip_route_dict=dict(zip(trips['trip_id'],trips['route_id']))"
   ]
  },
  {
   "cell_type": "markdown",
   "metadata": {},
   "source": [
    "###Classi\n",
    "Definiamo due classi per formattare meglio i dati:\n",
    "- stop: ad ogni bus_stop attribuiamo diversi attributi contenuti nel file stops.txt\n",
    "- itin: la classe itin è riferita ai percorsi seguiti dai mezzi pubblici. Li abbiamo preferiti alle routes contenute nei GTFS_DATA perchè sono univoci, mentre ad una routes possono corrispondere più itinerari."
   ]
  },
  {
   "cell_type": "code",
   "execution_count": 24,
   "metadata": {
    "collapsed": false
   },
   "outputs": [],
   "source": [
    "class stop:\n",
    "    def __init__ (self, idd, code,name, lat, lon):\n",
    "        self.name = name\n",
    "        self.code = code\n",
    "        self.idd = idd\n",
    "        self.lat = lat\n",
    "        self.lon = lon"
   ]
  },
  {
   "cell_type": "code",
   "execution_count": 25,
   "metadata": {
    "collapsed": false
   },
   "outputs": [],
   "source": [
    "class itiner:\n",
    "    def __init__(self, idd, stop_list, tempo, frequenze):\n",
    "        self.idd = idd\n",
    "        self.stop_list = stop_list\n",
    "        self.tempo = tempo\n",
    "        self.frequenze = frequenze"
   ]
  },
  {
   "cell_type": "markdown",
   "metadata": {},
   "source": [
    "Nel box seguente creo una lista di fermate, definite come oggetti con tutte le caratteristiche descritte nella classe definita sopra"
   ]
  },
  {
   "cell_type": "code",
   "execution_count": 26,
   "metadata": {
    "collapsed": false
   },
   "outputs": [],
   "source": [
    "stop_list=[]\n",
    "i=0\n",
    "for a in stops.iterrows():\n",
    "    if isnan(a[1]['stop_code']): #alcune fermate hanno stop_code nullo, glie ne mettiamo uno unico noi\n",
    "        code = 10002 + i\n",
    "        i = i + 1\n",
    "    else:\n",
    "        code = int(a[1]['stop_code'])\n",
    "    stop_list.append(stop\n",
    "                     (int(a[1]['stop_id']),\n",
    "                      code,\n",
    "                      str(a[1]['stop_name']),\n",
    "                      float(a[1]['stop_lat']),\n",
    "                      float(a[1]['stop_lon'])))"
   ]
  },
  {
   "cell_type": "code",
   "execution_count": null,
   "metadata": {
    "collapsed": true
   },
   "outputs": [],
   "source": [
    "import cPickle as pickle\n",
    "\n",
    "with open('stops.pkl', 'wb') as output:\n",
    "    pickle.dump(len(stop_list), output, pickle.HIGHEST_PROTOCOL) #Il primo elemento è la lunghezza della lista\n",
    "    for fermata in stop_list:\n",
    "        pickle.dump(fermata, output, pickle.HIGHEST_PROTOCOL)"
   ]
  },
  {
   "cell_type": "markdown",
   "metadata": {},
   "source": [
    "### Creazione itinerari\n",
    "La creazione degli itinerari prevede diversi steps. Inizialmente associamo ad ogni trip l'itinerario seguito e, viceversa, ad ogni itinerario seguito i trip che seguono questo itinerario"
   ]
  },
  {
   "cell_type": "code",
   "execution_count": 27,
   "metadata": {
    "collapsed": false
   },
   "outputs": [
    {
     "name": "stdout",
     "output_type": "stream",
     "text": [
      "trip incompleti:\n",
      "2986\n",
      "2987\n",
      "4761\n",
      "4762\n"
     ]
    }
   ],
   "source": [
    "trip_itinerario = {} #per ogni trip, l'itinerario seguito\n",
    "print \"trip incompleti:\"\n",
    "for trip, group in stop_times.groupby('trip_id'):#tanti dataframe, ognuno ha il suo trip_id\n",
    "    #print group, type(list(group['stop_id'])), type(list(group['stop_id'])[0]),list(group['stop_id'])[0]\n",
    "    #break\n",
    "    if len(group)== max(group['stop_sequence']):#controllo itinerari incompleti (non aggiunti al dizionario)\n",
    "        trip_itinerario[trip]=list(group.sort_values('stop_sequence')['stop_id'].values)\n",
    "    else:\n",
    "        print trip\n",
    "#qui creo un dizionario che associa ad ogni trip la lista di stop_id che lo costituisce\n",
    "\n",
    "itin_trip = defaultdict(list) #per ogni itinerario, i trip con quell'itinerario\n",
    "for key, value in sorted(trip_itinerario.iteritems()):\n",
    "    itin_trip[str(value)].append(key)"
   ]
  },
  {
   "cell_type": "markdown",
   "metadata": {},
   "source": [
    "Segue il calcolo della molteplicità per ogni trip, cioè quante volte quel trip è stato ripetuto identicamente nel periodo considerato (95 giorni), grazie ad altri dati contenuti nei file GTFS. L'informazione sulla molteplicità è quindi trasferita agli itinerari (questo passaggio sarà raffinato in seguito dividendo la molteplicità per fascia oraria), quindi una visualizzazione grafica della molteplicità degli itinerari in un istogramma."
   ]
  },
  {
   "cell_type": "code",
   "execution_count": 28,
   "metadata": {
    "collapsed": false
   },
   "outputs": [
    {
     "name": "stdout",
     "output_type": "stream",
     "text": [
      "1.0\n"
     ]
    },
    {
     "data": {
      "text/plain": [
       "(array([ 883.,   87.,   48.,   27.,   10.,   16.,   25.,    7.,    4.,\n",
       "          10.,    9.,    5.,    5.,    7.,   11.,    1.,    8.,   12.,\n",
       "           4.,    8.,    5.,    5.,    9.,   13.,    5.,    5.,    2.,\n",
       "           5.,    5.,    6.,    3.,    5.,    4.,    0.,    2.,    0.,\n",
       "           0.,    0.,    0.,    0.,    0.,    0.,    0.,    0.,    2.,\n",
       "           0.,    0.,    0.,    0.,    0.,    0.,    0.,    0.,    0.,\n",
       "           0.,    0.,    0.,    0.,    0.,    0.,    0.,    0.,    0.,\n",
       "           0.,    0.,    0.,    0.,    0.,    0.,    0.,    0.,    0.,\n",
       "           0.,    0.,    0.,    0.,    0.,    0.,    0.,    0.,    0.,\n",
       "           0.,    0.,    0.,    0.,    0.,    0.,    0.,    0.,    0.,\n",
       "           0.,    0.,    0.,    0.,    0.,    0.,    0.,    0.,    0.,    2.]),\n",
       " array([  3.00000000e+00,   3.20790000e+02,   6.38580000e+02,\n",
       "          9.56370000e+02,   1.27416000e+03,   1.59195000e+03,\n",
       "          1.90974000e+03,   2.22753000e+03,   2.54532000e+03,\n",
       "          2.86311000e+03,   3.18090000e+03,   3.49869000e+03,\n",
       "          3.81648000e+03,   4.13427000e+03,   4.45206000e+03,\n",
       "          4.76985000e+03,   5.08764000e+03,   5.40543000e+03,\n",
       "          5.72322000e+03,   6.04101000e+03,   6.35880000e+03,\n",
       "          6.67659000e+03,   6.99438000e+03,   7.31217000e+03,\n",
       "          7.62996000e+03,   7.94775000e+03,   8.26554000e+03,\n",
       "          8.58333000e+03,   8.90112000e+03,   9.21891000e+03,\n",
       "          9.53670000e+03,   9.85449000e+03,   1.01722800e+04,\n",
       "          1.04900700e+04,   1.08078600e+04,   1.11256500e+04,\n",
       "          1.14434400e+04,   1.17612300e+04,   1.20790200e+04,\n",
       "          1.23968100e+04,   1.27146000e+04,   1.30323900e+04,\n",
       "          1.33501800e+04,   1.36679700e+04,   1.39857600e+04,\n",
       "          1.43035500e+04,   1.46213400e+04,   1.49391300e+04,\n",
       "          1.52569200e+04,   1.55747100e+04,   1.58925000e+04,\n",
       "          1.62102900e+04,   1.65280800e+04,   1.68458700e+04,\n",
       "          1.71636600e+04,   1.74814500e+04,   1.77992400e+04,\n",
       "          1.81170300e+04,   1.84348200e+04,   1.87526100e+04,\n",
       "          1.90704000e+04,   1.93881900e+04,   1.97059800e+04,\n",
       "          2.00237700e+04,   2.03415600e+04,   2.06593500e+04,\n",
       "          2.09771400e+04,   2.12949300e+04,   2.16127200e+04,\n",
       "          2.19305100e+04,   2.22483000e+04,   2.25660900e+04,\n",
       "          2.28838800e+04,   2.32016700e+04,   2.35194600e+04,\n",
       "          2.38372500e+04,   2.41550400e+04,   2.44728300e+04,\n",
       "          2.47906200e+04,   2.51084100e+04,   2.54262000e+04,\n",
       "          2.57439900e+04,   2.60617800e+04,   2.63795700e+04,\n",
       "          2.66973600e+04,   2.70151500e+04,   2.73329400e+04,\n",
       "          2.76507300e+04,   2.79685200e+04,   2.82863100e+04,\n",
       "          2.86041000e+04,   2.89218900e+04,   2.92396800e+04,\n",
       "          2.95574700e+04,   2.98752600e+04,   3.01930500e+04,\n",
       "          3.05108400e+04,   3.08286300e+04,   3.11464200e+04,\n",
       "          3.14642100e+04,   3.17820000e+04]),\n",
       " <a list of 100 Patch objects>)"
      ]
     },
     "execution_count": 28,
     "metadata": {},
     "output_type": "execute_result"
    },
    {
     "data": {
      "image/png": "[encoded data removed]",
      "text/plain": [
       "<matplotlib.figure.Figure at 0xb864908>"
      ]
     },
     "metadata": {},
     "output_type": "display_data"
    }
   ],
   "source": [
    "# qui devo assegnare ad ogni itinerario partenza e arrivo\n",
    "# servono trip_mol e gli stop_times\n",
    "# dizionario service_id -> molteplicità servizio\n",
    "service_id_molt = {}\n",
    "for service_id, group in calendar_dates.groupby('service_id'):\n",
    "    service_id_molt[service_id] =len(group)\n",
    "trip_mult=dict(zip(trips['trip_id'],trips['service_id']))\n",
    "for key,value in trip_mult.iteritems():\n",
    "    trip_mult[key]=service_id_molt[value]\n",
    "\n",
    "itin_freq = {}\n",
    "for itin,tripos in itin_trip.iteritems():\n",
    "    itin_freq[itin] = 0\n",
    "    for trip in tripos:\n",
    "        itin_freq[itin] = itin_freq[itin] + trip_mult[trip]\n",
    "\n",
    "data = [i for i in itin_freq.values()]\n",
    "print float(len(data))/float(len(itin_freq)) \n",
    "#itinerari con un numero sospettosamente basso di molteplicità (95 giorni), ma ricordiamo che stiamo ancora considerando\n",
    "#la totalità dei viaggi, anche su rete extraurbana\n",
    "plt.hist(data, bins =100)"
   ]
  },
  {
   "cell_type": "markdown",
   "metadata": {},
   "source": [
    "Ora ci manca una descrizione oraria della frequenza degli itinerari. Vogliamo cioè capire, all' interno della giornata, in che fasce orarie un itinerario viene seguito. Stiamo effettuando una chiara approssimazione di uniformità lungo la settimana delle corse degli autobus. Segue codice di esempio su come calcolare questa distribuzione oraria."
   ]
  },
  {
   "cell_type": "code",
   "execution_count": 29,
   "metadata": {
    "collapsed": false,
    "scrolled": true
   },
   "outputs": [],
   "source": [
    "#codice di esempio per calcolare il numero di passaggi per ogni fascia oraria. Non necessario da eseguire\n",
    "#itinero = itin_trip.keys()[98]  #itinerario di prova\n",
    "#orari = [0 for i in range(24)] #\n",
    "#for tripso in itin_trip[itinero]:\n",
    "#   print tripso\n",
    "#    selezione = stop_times[stop_times['trip_id']==tripso]\n",
    "#    ora_arrivo = selezione[selezione['stop_sequence']==max(selezione['stop_sequence'])]['arrival_time']#.split(':')\n",
    "#   print ora_arrivo\n",
    "#    ora_arrivo = str(ora_arrivo).split()[1].split(':')\n",
    "#    min_arrivo = ora_arrivo[1]\n",
    "#    ora_arrivo = ora_arrivo[0]\n",
    "#   print ora_arrivo, int(ora_arrivo)%24\n",
    "#    orari[int(ora_arrivo)%24] += trip_mult[tripso]\n",
    "    \n",
    "#print orari\n"
   ]
  },
  {
   "cell_type": "markdown",
   "metadata": {},
   "source": [
    "Ora siamo pronti a creare la lista di oggetti itinerario. Nel codice sottostante (~60 min di esecuzione) per ogni itinerario calcoliamo tutti i parametri necessari alla creazione e creiamo la lista.\n",
    "\n",
    "####N.B. è ancora necessario considerare che la distribuzione oraria è aggregata per 95 giorni. Al fine di avere una distribuzione giornaliera di corse il risultato va diviso per 95."
   ]
  },
  {
   "cell_type": "code",
   "execution_count": 30,
   "metadata": {
    "collapsed": false,
    "scrolled": true
   },
   "outputs": [
    {
     "name": "stdout",
     "output_type": "stream",
     "text": [
      "0 1 2 3 4 5 6 7 8 9 10 11 12 13 14 15 16 17 18 19 20 21 22 23 24 25 26 27 28 29 30 31 32 33 34 35 36 37 38 39 40 41 42 43 44 45 46 47 48 49 50 51 52 53 54 55 56 57 58 59 60 61 62 63 64 65 66 67 68 69 70 71 72 73 74 75 76 77 78 79 80 81 82 83 84 85 86 87 88 89 90 91 92 93 94 95 96 97 98 99 100 101 102 103 104 105 106 107 108 109 110 111 112 113 114 115 116 117 118 119 120 121 122 123 124 125 126 127 128 129 130 131 132 133 134 135 136 137 138 139 140 141 142 143 144 145 146 147 148 149 150 151 152 153 154 155 156 157 158 159 160 161 162 163 164 165 166 167 168 169 170 171 172 173 174 175 176 177 178 179 180 181 182 183 184 185 186 187 188 189 190 191 192 193 194 195 196 197 198 199 200 201 202 203 204 205 206 207 208 209 210 211 212 213 214 215 216 217 218 219 220 221 222 223 224 225 226 227 228 229 230 231 232 233 234 235 236 237 238 239 240 241 242 243 244 245 246 247 248 249 250 251 252 253 254 255 256 257 258 259 260 261 262 263 264 265 266 267 268 269 270 271 272 273 274 275 276 277 278 279 280 281 282 283 284 285 286 287 288 289 290 291 292 293 294 295 296 297 298 299 300 301 302 303 304 305 306 307 308 309 310 311 312 313 314 315 316 317 318 319 320 321 322 323 324 325 326 327 328 329 330 331 332 333 334 335 336 337 338 339 340 341 342 343 344 345 346 347 348 349 350 351 352 353 354 355 356 357 358 359 360 361 362 363 364 365 366 367 368 369 370 371 372 373 374 375 376 377 378 379 380 381 382 383 384 385 386 387 388 389 390 391 392 393 394 395 396 397 398 399 400 401 402 403 404 405 406 407 408 409 410 411 412 413 414 415 416 417 418 419 420 421 422 423 424 425 426 427 428 429 430 431 432 433 434 435 436 437 438 439 440 441 442 443 444 445 446 447 448 449 450 451 452 453 454 455 456 457 458 459 460 461 462 463 464 465 466 467 468 469 470 471 472 473 474 475"
     ]
    },
    {
     "ename": "KeyboardInterrupt",
     "evalue": "",
     "output_type": "error",
     "traceback": [
      "\u001b[1;31m---------------------------------------------------------------------------\u001b[0m",
      "\u001b[1;31mKeyboardInterrupt\u001b[0m                         Traceback (most recent call last)",
      "\u001b[1;32m<ipython-input-30-0129949bbb85>\u001b[0m in \u001b[0;36m<module>\u001b[1;34m()\u001b[0m\n\u001b[0;32m     23\u001b[0m     \u001b[0mstop_list_num\u001b[0m \u001b[1;33m=\u001b[0m \u001b[0mkey\u001b[0m\u001b[1;33m.\u001b[0m\u001b[0mstrip\u001b[0m\u001b[1;33m(\u001b[0m\u001b[1;34m'[]'\u001b[0m\u001b[1;33m)\u001b[0m\u001b[1;33m.\u001b[0m\u001b[0msplit\u001b[0m\u001b[1;33m(\u001b[0m\u001b[1;34m','\u001b[0m\u001b[1;33m)\u001b[0m\u001b[1;33m\u001b[0m\u001b[0m\n\u001b[0;32m     24\u001b[0m     \u001b[1;32mfor\u001b[0m \u001b[0mbus_stop\u001b[0m \u001b[1;32min\u001b[0m \u001b[0mstop_list_num\u001b[0m\u001b[1;33m:\u001b[0m \u001b[1;31m#la lista di bus stop è in realtà una lista di oggetti di tipo bus_stop\u001b[0m\u001b[1;33m\u001b[0m\u001b[0m\n\u001b[1;32m---> 25\u001b[1;33m         \u001b[0mmy_stop_list\u001b[0m\u001b[1;33m.\u001b[0m\u001b[0mappend\u001b[0m\u001b[1;33m(\u001b[0m\u001b[1;33m[\u001b[0m\u001b[0mk\u001b[0m \u001b[1;32mfor\u001b[0m \u001b[0mk\u001b[0m \u001b[1;32min\u001b[0m \u001b[0mstop_list\u001b[0m \u001b[1;32mif\u001b[0m \u001b[0mint\u001b[0m\u001b[1;33m(\u001b[0m\u001b[0mk\u001b[0m\u001b[1;33m.\u001b[0m\u001b[0midd\u001b[0m\u001b[1;33m)\u001b[0m\u001b[1;33m==\u001b[0m\u001b[0mint\u001b[0m\u001b[1;33m(\u001b[0m\u001b[0mbus_stop\u001b[0m\u001b[1;33m)\u001b[0m\u001b[1;33m]\u001b[0m\u001b[1;33m)\u001b[0m\u001b[1;33m\u001b[0m\u001b[0m\n\u001b[0m\u001b[0;32m     26\u001b[0m     \u001b[0mmy_stop_list\u001b[0m \u001b[1;33m=\u001b[0m \u001b[0mravel\u001b[0m\u001b[1;33m(\u001b[0m\u001b[0mmy_stop_list\u001b[0m\u001b[1;33m)\u001b[0m\u001b[1;33m\u001b[0m\u001b[0m\n\u001b[0;32m     27\u001b[0m     \u001b[0mitinerari\u001b[0m\u001b[1;33m.\u001b[0m\u001b[0mappend\u001b[0m\u001b[1;33m(\u001b[0m\u001b[0mitiner\u001b[0m\u001b[1;33m(\u001b[0m\u001b[0midd\u001b[0m\u001b[1;33m,\u001b[0m\u001b[0mmy_stop_list\u001b[0m\u001b[1;33m,\u001b[0m \u001b[0mdurata\u001b[0m\u001b[1;33m,\u001b[0m \u001b[0morari\u001b[0m\u001b[1;33m)\u001b[0m\u001b[1;33m)\u001b[0m \u001b[1;31m#creazione vera e propria dopo il calcolo di tutti i param idd,my_stop_list, durata, orari\u001b[0m\u001b[1;33m\u001b[0m\u001b[0m\n",
      "\u001b[1;31mKeyboardInterrupt\u001b[0m: "
     ]
    }
   ],
   "source": [
    "itinerari = [] #(self, id, stop_list, tempo, frequenze)\n",
    "j=0\n",
    "for key, value in itin_trip.iteritems():\n",
    "    my_stop_list=[]\n",
    "    orari = [0 for i in range(24)]\n",
    "    idd = j\n",
    "    print j,\n",
    "    durata = 0\n",
    "    for tripsos in itin_trip[key]:\n",
    "        selezione = stop_times[stop_times['trip_id']==tripsos]\n",
    "        ora_arrivo = selezione[selezione['stop_sequence']==max(selezione['stop_sequence'])]['arrival_time']\n",
    "        ora_partenza = selezione[selezione['stop_sequence']==1]['departure_time']\n",
    "        ora_arrivo = str(ora_arrivo).split()[1].split(':')\n",
    "        ora_partenza = str(ora_partenza).split()[1].split(':')\n",
    "        min_arrivo = ora_arrivo[1]\n",
    "        min_partenza = ora_partenza[1]\n",
    "        ora_arrivo = ora_arrivo[0]\n",
    "        ora_partenza = ora_partenza[0]\n",
    "        durata =  60*(int(ora_arrivo) - int(ora_partenza)) + int(min_arrivo) - int(min_partenza) + durata\n",
    "        orari[int(ora_arrivo)%24] += trip_mult[tripsos]\n",
    "    j+=1\n",
    "    durata = float(durata)/float(len(value)) #la durata di un itinerario è la media su tutti i trip\n",
    "    stop_list_num = key.strip('[]').split(',')\n",
    "    for bus_stop in stop_list_num: #la lista di bus stop è in realtà una lista di oggetti di tipo bus_stop\n",
    "        my_stop_list.append([k for k in stop_list if int(k.idd)==int(bus_stop)])\n",
    "    my_stop_list = ravel(my_stop_list)\n",
    "    itinerari.append(itiner(idd,my_stop_list, durata, orari)) #creazione vera e propria dopo il calcolo di tutti i param idd,my_stop_list, durata, orari"
   ]
  },
  {
   "cell_type": "code",
   "execution_count": null,
   "metadata": {
    "collapsed": true
   },
   "outputs": [],
   "source": [
    "import cPickle as pickle\n",
    "\n",
    "with open('itin.pkl', 'wb') as output:\n",
    "    pickle.dump(len(itin_list), output, pickle.HIGHEST_PROTOCOL) #Il primo elemento è la lunghezza della lista\n",
    "    for itinerario in itin_list:\n",
    "        pickle.dump(itinerario, output, pickle.HIGHEST_PROTOCOL)"
   ]
  }
 ],
 "metadata": {
  "kernelspec": {
   "display_name": "Python 2",
   "language": "python",
   "name": "python2"
  },
  "language_info": {
   "codemirror_mode": {
    "name": "ipython",
    "version": 2
   },
   "file_extension": ".py",
   "mimetype": "text/x-python",
   "name": "python",
   "nbconvert_exporter": "python",
   "pygments_lexer": "ipython2",
   "version": "2.7.11"
  }
 },
 "nbformat": 4,
 "nbformat_minor": 0
}
