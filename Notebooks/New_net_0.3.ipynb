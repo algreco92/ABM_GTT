{
 "cells": [
  {
   "cell_type": "code",
   "execution_count": 37,
   "metadata": {
    "collapsed": false
   },
   "outputs": [
    {
     "name": "stdout",
     "output_type": "stream",
     "text": [
      "Populating the interactive namespace from numpy and matplotlib\n"
     ]
    }
   ],
   "source": [
    "%pylab inline\n",
    "import csv\n",
    "import itertools\n",
    "import pandas as pd\n",
    "from collections import defaultdict"
   ]
  },
  {
   "cell_type": "code",
   "execution_count": 38,
   "metadata": {
    "collapsed": true
   },
   "outputs": [],
   "source": [
    "trips = pd.read_csv(\"../GTFS_DATA/torino_it/trips.txt\",header = 0)\n",
    "stop_times = pd.read_csv(\"../GTFS_DATA/torino_it/stop_times.txt\", header = 0)\n",
    "stops = pd.read_csv(\"../GTFS_DATA/torino_it/stops.txt\",header = 0)\n",
    "calendar_dates = pd.read_csv(\"../GTFS_DATA/torino_it/calendar_dates.txt\",header=0)"
   ]
  },
  {
   "cell_type": "code",
   "execution_count": 39,
   "metadata": {
    "collapsed": false
   },
   "outputs": [],
   "source": [
    "route_trip_dict={} # dizionario route -> trip\n",
    "trip_route_dict={} # dizionario trip -> route\n",
    "for route, group in trips.groupby('route_id'):\n",
    "    route_trip_dict[route] = group['trip_id']\n",
    "trip_route_dict=dict(zip(trips['trip_id'],trips['route_id']))"
   ]
  },
  {
   "cell_type": "code",
   "execution_count": 40,
   "metadata": {
    "collapsed": false
   },
   "outputs": [],
   "source": [
    "class stop:\n",
    "    def __init__ (self, id, code,name, lat, lon):\n",
    "        self.name = name\n",
    "        self.code = code\n",
    "        self.id = id\n",
    "        self.lat = lat\n",
    "        self.lon = lon"
   ]
  },
  {
   "cell_type": "code",
   "execution_count": 41,
   "metadata": {
    "collapsed": false
   },
   "outputs": [],
   "source": [
    "class itin:\n",
    "    def __init__(self, id, stop_list, tempo, frequenze):\n",
    "        self.id = id\n",
    "        self.stop_list = stop_list\n",
    "        self.tempo = tempo\n",
    "        self.frequenze = frequenze"
   ]
  },
  {
   "cell_type": "markdown",
   "metadata": {},
   "source": [
    "Nel box seguente creo una lista di fermate, definite come oggetti con tutte le caratteristiche descritte nella classe definita sopra"
   ]
  },
  {
   "cell_type": "code",
   "execution_count": 42,
   "metadata": {
    "collapsed": false
   },
   "outputs": [],
   "source": [
    "stop_list=[]\n",
    "i=0\n",
    "for a in stops.iterrows():\n",
    "    if isnan(a[1]['stop_code']): #alcune fermate hanno stop_code nullo, glie ne mettiamo uno unico noi\n",
    "        code = 10002 + i\n",
    "        i = i + 1\n",
    "    else:\n",
    "        code = int(a[1]['stop_code'])\n",
    "    stop_list.append(stop\n",
    "                     (int(a[1]['stop_id']),\n",
    "                      code,\n",
    "                      str(a[1]['stop_name']),\n",
    "                      float(a[1]['stop_lat']),\n",
    "                      float(a[1]['stop_lon'])))"
   ]
  },
  {
   "cell_type": "code",
   "execution_count": 43,
   "metadata": {
    "collapsed": false
   },
   "outputs": [
    {
     "name": "stdout",
     "output_type": "stream",
     "text": [
      "trip incompleti:\n",
      "2986\n",
      "2987\n",
      "4761\n",
      "4762\n"
     ]
    }
   ],
   "source": [
    "trip_itinerario = {} #per ogni trip, l'itinerario seguito\n",
    "print \"trip incompleti:\"\n",
    "for trip, group in stop_times.groupby('trip_id'):#tanti dataframe, ognuno ha il suo trip_id\n",
    "    #print group, type(list(group['stop_id'])), type(list(group['stop_id'])[0]),list(group['stop_id'])[0]\n",
    "    #break\n",
    "    if len(group)== max(group['stop_sequence']):#controllo itinerari incompleti (non aggiunti al dizionario)\n",
    "        trip_itinerario[trip]=list(group.sort_values('stop_sequence')['stop_id'].values)\n",
    "    else:\n",
    "        print trip\n",
    "#qui creo un dizionario che associa ad ogni trip la lista di stop_id che lo costituisce\n",
    "\n",
    "itin_trip = defaultdict(list) #per ogni itinerario, i trip con quell'itinerario\n",
    "for key, value in sorted(trip_itinerario.iteritems()):\n",
    "    itin_trip[str(value)].append(key)"
   ]
  },
  {
   "cell_type": "code",
   "execution_count": 44,
   "metadata": {
    "collapsed": false
   },
   "outputs": [
    {
     "name": "stdout",
     "output_type": "stream",
     "text": [
      "25257\n",
      "39\n"
     ]
    }
   ],
   "source": [
    "# mi serve l'ora di arrivo per ogni trip e l'orario di partenza, dividendo per il numero di fermate \n",
    "# ho l'orario per ogni fermata. Codice di esempio per spiegare quello che abbiamo fatto\n",
    "#print itin_trip.keys()[0]\n",
    "tripp = itin_trip[itin_trip.keys()[1]][0]\n",
    "print tripp\n",
    "selezione = stop_times[stop_times['trip_id']==tripp] # le stop sequence con quel trip_id\n",
    "#print selezione\n",
    "#print selezione['stop_sequence']\n",
    "lunghezza = max(selezione['stop_sequence'])\n",
    "fine = selezione[selezione['stop_sequence'] == max(selezione['stop_sequence'])]\n",
    "inizio = selezione[selezione['stop_sequence'] == 1]\n",
    "\n",
    "stringa_fine = str(fine['arrival_time']).split()[1].split(':')\n",
    "stringa_inizio = str(inizio['arrival_time']).split()[1].split(':')\n",
    "minuto_fine = 60*(int(stringa_fine[0])% 24)+int(stringa_fine[1])\n",
    "minuto_inizio = 60*(int(stringa_inizio[0])% 24)+int(stringa_inizio[1]) \n",
    "print minuto_fine - minuto_inizio"
   ]
  },
  {
   "cell_type": "code",
   "execution_count": 60,
   "metadata": {
    "collapsed": false
   },
   "outputs": [
    {
     "name": "stdout",
     "output_type": "stream",
     "text": [
      "0.58814229249\n"
     ]
    },
    {
     "data": {
      "text/plain": [
       "(array([  17.,    1.,    2.,    0.,    0.,   26.,   25.,    4.,    1.,\n",
       "           0.,    0.,    0.,    2.,    0.,    4.,   11.,    0.,    0.,\n",
       "           1.,    5.,    1.,    0.,    0.,    3.,    0.,    1.,    0.,\n",
       "           2.,    0.,    0.,    0.,    0.,    4.,    0.,  129.,    4.,\n",
       "         116.,    3.,    1.,    0.,    0.,   67.,    3.,    3.,   87.,\n",
       "           1.,    0.,    0.,    2.,   12.,    1.,    0.,    4.,    4.,\n",
       "           0.,    2.,    0.,    1.,    0.,    0.,    1.,    2.,    0.,\n",
       "           4.,    0.,    0.,    1.,    0.,    0.,    0.,   14.,    0.,\n",
       "           4.,    0.,   24.,   15.,    0.,    4.,    0.,    1.,   33.,\n",
       "          12.,    1.,    7.,    3.,   16.,    0.,    6.,    1.,   23.,\n",
       "          12.,    0.,    1.,    1.,    2.,    0.,    1.,    0.,    2.,    3.]),\n",
       " array([   3.  ,    4.77,    6.54,    8.31,   10.08,   11.85,   13.62,\n",
       "          15.39,   17.16,   18.93,   20.7 ,   22.47,   24.24,   26.01,\n",
       "          27.78,   29.55,   31.32,   33.09,   34.86,   36.63,   38.4 ,\n",
       "          40.17,   41.94,   43.71,   45.48,   47.25,   49.02,   50.79,\n",
       "          52.56,   54.33,   56.1 ,   57.87,   59.64,   61.41,   63.18,\n",
       "          64.95,   66.72,   68.49,   70.26,   72.03,   73.8 ,   75.57,\n",
       "          77.34,   79.11,   80.88,   82.65,   84.42,   86.19,   87.96,\n",
       "          89.73,   91.5 ,   93.27,   95.04,   96.81,   98.58,  100.35,\n",
       "         102.12,  103.89,  105.66,  107.43,  109.2 ,  110.97,  112.74,\n",
       "         114.51,  116.28,  118.05,  119.82,  121.59,  123.36,  125.13,\n",
       "         126.9 ,  128.67,  130.44,  132.21,  133.98,  135.75,  137.52,\n",
       "         139.29,  141.06,  142.83,  144.6 ,  146.37,  148.14,  149.91,\n",
       "         151.68,  153.45,  155.22,  156.99,  158.76,  160.53,  162.3 ,\n",
       "         164.07,  165.84,  167.61,  169.38,  171.15,  172.92,  174.69,\n",
       "         176.46,  178.23,  180.  ]),\n",
       " <a list of 100 Patch objects>)"
      ]
     },
     "execution_count": 60,
     "metadata": {},
     "output_type": "execute_result"
    },
    {
     "data": {
      "image/png": "[encoded data removed]",
      "text/plain": [
       "<matplotlib.figure.Figure at 0xc023780>"
      ]
     },
     "metadata": {},
     "output_type": "display_data"
    }
   ],
   "source": [
    "# qui devo assegnare ad ogni itinerario partenza e arrivo\n",
    "# servono trip_mol e gli stop_times\n",
    "# dizionario service_id -> molteplicità servizio\n",
    "service_id_molt = {}\n",
    "for service_id, group in calendar_dates.groupby('service_id'):\n",
    "    service_id_molt[service_id] =len(group)\n",
    "trip_mult=dict(zip(trips['trip_id'],trips['service_id']))\n",
    "for key,value in trip_mult.iteritems():\n",
    "    trip_mult[key]=service_id_molt[value]\n",
    "\n",
    "itin_freq = {}\n",
    "for itin,tripos in itin_trip.iteritems():\n",
    "    itin_freq[itin] = 0\n",
    "    for trip in tripos:\n",
    "        itin_freq[itin] = itin_freq[itin] + trip_mult[trip]\n",
    "\n",
    "data = [i for i in itin_freq.values() if i < 190]\n",
    "print float(len(data))/float(len(itin_freq)) \n",
    "#itinerari con un numero sospettosamente basso di molteplicità (95 giorni), ma ricordiamo che stiamo ancora considerando\n",
    "#la totalità dei viaggi, anche su rete extraurbana\n",
    "plt.hist(data, bins =100)"
   ]
  },
  {
   "cell_type": "code",
   "execution_count": 96,
   "metadata": {
    "collapsed": false
   },
   "outputs": [
    {
     "name": "stdout",
     "output_type": "stream",
     "text": [
      "21\n",
      "21\n",
      "18\n",
      "16\n",
      "19\n",
      "14\n",
      "18\n",
      "17\n",
      "15\n",
      "20\n",
      "18\n",
      "15\n",
      "17\n",
      "20\n",
      "14\n",
      "16\n",
      "17\n",
      "19\n",
      "16\n",
      "15\n",
      "20\n",
      "18\n",
      "17\n",
      "19\n",
      "16\n",
      "16\n",
      "19\n",
      "14\n",
      "18\n",
      "17\n",
      "18\n",
      "20\n",
      "15\n",
      "18\n",
      "15\n",
      "20\n",
      "17\n",
      "19\n",
      "14\n",
      "17\n",
      "16\n",
      "16\n",
      "15\n",
      "20\n",
      "18\n",
      "19\n",
      "16\n",
      "17\n",
      "14\n",
      "20\n",
      "20\n",
      "14\n",
      "21\n",
      "25\n"
     ]
    },
    {
     "ename": "IndexError",
     "evalue": "list index out of range",
     "output_type": "error",
     "traceback": [
      "\u001b[1;31m---------------------------------------------------------------------------\u001b[0m",
      "\u001b[1;31mIndexError\u001b[0m                                Traceback (most recent call last)",
      "\u001b[1;32m<ipython-input-96-e9c8d9138bbf>\u001b[0m in \u001b[0;36m<module>\u001b[1;34m()\u001b[0m\n\u001b[0;32m      9\u001b[0m     \u001b[0mora_arrivo\u001b[0m \u001b[1;33m=\u001b[0m \u001b[0mora_arrivo\u001b[0m\u001b[1;33m[\u001b[0m\u001b[1;36m0\u001b[0m\u001b[1;33m]\u001b[0m\u001b[1;33m\u001b[0m\u001b[0m\n\u001b[0;32m     10\u001b[0m     \u001b[1;32mprint\u001b[0m \u001b[0mora_arrivo\u001b[0m\u001b[1;33m\u001b[0m\u001b[0m\n\u001b[1;32m---> 11\u001b[1;33m     \u001b[0morari\u001b[0m\u001b[1;33m[\u001b[0m\u001b[0mint\u001b[0m\u001b[1;33m(\u001b[0m\u001b[0mora_arrivo\u001b[0m\u001b[1;33m)\u001b[0m\u001b[1;33m]\u001b[0m \u001b[1;33m+=\u001b[0m\u001b[1;36m1\u001b[0m\u001b[1;33m\u001b[0m\u001b[0m\n\u001b[0m\u001b[0;32m     12\u001b[0m \u001b[1;33m\u001b[0m\u001b[0m\n\u001b[0;32m     13\u001b[0m \u001b[1;32mprint\u001b[0m \u001b[0morari\u001b[0m\u001b[1;33m\u001b[0m\u001b[0m\n",
      "\u001b[1;31mIndexError\u001b[0m: list index out of range"
     ]
    }
   ],
   "source": [
    "itinero = itin_trip.keys()[1]  #itinerario di prova\n",
    "orari = [0 for i in range(24)] #\n",
    "for tripso in itin_trip[itinero]:\n",
    "    selezione = stop_times[stop_times['trip_id']== tripso]\n",
    "    ora_arrivo = selezione[selezione['stop_sequence']==max(selezione['stop_sequence'])]['arrival_time']#.split(':')\n",
    "#   print ora_arrivo\n",
    "    ora_arrivo = str(ora_arrivo).split()[1].split(':')\n",
    "    min_arrivo = ora_arrivo[1]\n",
    "    ora_arrivo = ora_arrivo[0]\n",
    "    print ora_arrivo\n",
    "    orari[int(ora_arrivo)] +=1\n",
    "    \n",
    "print orari\n"
   ]
  },
  {
   "cell_type": "code",
   "execution_count": 20,
   "metadata": {
    "collapsed": false
   },
   "outputs": [
    {
     "name": "stdout",
     "output_type": "stream",
     "text": [
      "54228001\n"
     ]
    }
   ],
   "source": [
    "itin_list = []\n",
    "i=0\n",
    "for key,value in itin_trip.iteritems():\n",
    "    id = i\n",
    "    i += 1\n",
    "    lista_stop = (key.strip('[]').split(', ')[0])\n",
    "    break\n",
    "    "
   ]
  }
 ],
 "metadata": {
  "kernelspec": {
   "display_name": "Python 2",
   "language": "python",
   "name": "python2"
  },
  "language_info": {
   "codemirror_mode": {
    "name": "ipython",
    "version": 2
   },
   "file_extension": ".py",
   "mimetype": "text/x-python",
   "name": "python",
   "nbconvert_exporter": "python",
   "pygments_lexer": "ipython2",
   "version": "2.7.11"
  }
 },
 "nbformat": 4,
 "nbformat_minor": 0
}
